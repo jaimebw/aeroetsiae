{
 "cells": [
  {
   "cell_type": "markdown",
   "metadata": {},
   "source": [
    "# Trabajo de perfiles de Aerodinámica NSA"
   ]
  },
  {
   "cell_type": "code",
   "execution_count": 32,
   "metadata": {},
   "outputs": [],
   "source": [
    "import numpy as np\n",
    "import os\n",
    "from numpy import cos, sin, arccos, pi,tan\n",
    "import scipy.integrate as integrate\n",
    "import pandas as pd\n",
    "import warnings\n",
    "warnings.filterwarnings(\"ignore\")\n",
    "\n",
    "\n",
    "carpeta_datos_csv = r\"datos_csv/\"\n",
    "if not os.path.exists(carpeta_datos_csv):\n",
    "    os.mkdir(carpeta)"
   ]
  },
  {
   "cell_type": "code",
   "execution_count": null,
   "metadata": {},
   "outputs": [],
   "source": [
    "def guardarcsv(archivo, nombre_archivo):\n",
    "    # guarda el archivo .csv en la carpeta especificada\n",
    "    carpeta_datos_csv = r\"datos_csv/\"\n",
    "    archivo.to_csv(carpeta_datos_csv+nombre_archivo+\".csv\")\n",
    "\n",
    "def leyendagrafica():\n",
    "        plt.legend(loc='upper center', bbox_to_anchor=(0.5, -0.15),\n",
    "              fancybox=True, shadow=True, ncol=5)\n",
    "\n",
    "def perfilnaca(DNI):\n",
    "    # genera los parámetros del perfil\n",
    "    \"\"\"\n",
    "    123VWXYZ\n",
    "    01234567\n",
    "    \"\"\"\n",
    "    f = 1 + int(int(DNI[3])*5/8)\n",
    "    xf = 20 + 10*int(int(DNI[4])/8*2)\n",
    "    t = 8 +int(int(DNI[5])*10/9)\n",
    "    ca = 20 +5*int(int(DNI[6])*3/8)\n",
    "    delta_a = 5 + 5*int(int(DNI[7])*2/8)\n",
    "    parametros = np.array([f,xf,t,ca,delta_a])/100\n",
    "    print(\"Tu perfil NACA es el\",str(f),str(xf)[0],str(t))\n",
    "    return parametros"
   ]
  },
  {
   "cell_type": "markdown",
   "metadata": {},
   "source": [
    "## Datos iniciales (datos del perfil NACA)"
   ]
  },
  {
   "cell_type": "code",
   "execution_count": 2,
   "metadata": {},
   "outputs": [],
   "source": [
    "parametros_perfil = perfilnaca(\"\")\n",
    "f = parametros_perfil[0]\n",
    "xf = parametros_perfil[1]\n",
    "t = parametros_perfil[2]\n",
    "ca = parametros_perfil[3]\n",
    "delta_a = np.radians(-parametros_perfil[4]*100)\n",
    "\n",
    "numero_coeficientes = 250 # número de coeficientes \n",
    "xa = 1 -ca\n",
    "n = np.linspace(0,numero_coeficientes,numero_coeficientes+1)"
   ]
  },
  {
   "cell_type": "markdown",
   "metadata": {},
   "source": [
    "# Funciones de los coeficientes A0,A1,...,AN"
   ]
  },
  {
   "cell_type": "code",
   "execution_count": 3,
   "metadata": {},
   "outputs": [],
   "source": [
    "def coefA0(xf=xf,f=f):\n",
    "    # Coeficiente A0 para el perfil sin timon\n",
    "    lim_inf = 0\n",
    "    lim_sup = pi\n",
    "    lim_medio = medio = arccos([(xf-0.5)*2])[0]\n",
    "    tramo1 = integrate.quad(lambda x: f/(1-xf)**2*(2*xf-1-cos(x)),lim_inf,lim_medio)\n",
    "    tramo2 = integrate.quad(lambda x: f/xf**2 *(2*xf-1-cos(x)),lim_medio,lim_sup)\n",
    "    \n",
    "    return -1/pi * (tramo1[0] + tramo2[0])\n",
    "\n",
    "def coefAN(n=n,xf=xf,f=f):\n",
    "    # Coeficientes AN para el perfil sin timon\n",
    "    lim_inf = 0\n",
    "    lim_sup = pi\n",
    "    lim_medio = medio = arccos([(xf-0.5)*2])[0]\n",
    "    tramo1 = integrate.quad(lambda x: (f/(1-xf)**2 * (2*xf-1-cos(x)))*cos(n*x),lim_inf,lim_medio)\n",
    "    tramo2 = integrate.quad(lambda x: (f/xf**2 *(2*xf-1-cos(x)))*cos(n*x),lim_medio,lim_sup)\n",
    "    \n",
    "    return -2/pi * (tramo1[0] + tramo2[0])\n",
    "\n",
    "def coefA0_T(ca=ca,delta_a=delta_a):\n",
    "    # Coeficiente A0 para el perfil con timon\n",
    "    lim_inf = 0\n",
    "    lim_medio2 = arccos([((1-ca)-0.5)*2])[0]\n",
    "    tramo1 = integrate.quad(lambda x: tan(delta_a),lim_inf,lim_medio2)\n",
    "    return -1/pi * tramo1[0]\n",
    "\n",
    "def coefAN_T(ca=ca,delta_a=delta_a,n=n):\n",
    "    # Coeficiente A0 para el perfil con timon\n",
    "    lim_inf = 0\n",
    "    lim_medio2 = arccos([((1-ca)-0.5)*2])[0]\n",
    "    tramo1 = integrate.quad(lambda x: tan(delta_a)*cos(n*x),lim_inf,lim_medio2)\n",
    "    return -2/pi * tramo1[0]\n",
    "    "
   ]
  },
  {
   "cell_type": "markdown",
   "metadata": {},
   "source": [
    "## 1. Cálculo de los coeficientes de Glauert \n",
    "### 1.1 Para el timón sin perfil"
   ]
  },
  {
   "cell_type": "code",
   "execution_count": 4,
   "metadata": {},
   "outputs": [],
   "source": [
    "import pandas as pd\n",
    "Coeficientes_n = pd.DataFrame()\n",
    "CoefAN_ST = np.array([])\n",
    "count = 0\n",
    "coef = 0\n",
    "for count,i in enumerate(n):\n",
    "    if count == 0:\n",
    "        coef = coefA0()\n",
    "        CoefAN_ST = np.append(CoefAN_ST,coef) # ojo, que casi la cagas por esto: no lo quites, porque sino A0 no se pone dentro del vector para el calculo del Cl\n",
    "    else:\n",
    "        coef = coefAN(int(count),xf,f)\n",
    "        CoefAN_ST = np.append(CoefAN_ST,coef)\n",
    "    coeficientes_n = pd.DataFrame({\"Coeficientes Sin Timon\":\"A\"+str(count),\"A\":coef},index = [count])\n",
    "    Coeficientes_n= Coeficientes_n.append(coeficientes_n)\n",
    "guardarcsv(Coeficientes_n,\"coeficientes_sin_timon\")\n",
    "# aqui la variables para su uso se recogen en CoefAN(np.array)"
   ]
  },
  {
   "cell_type": "code",
   "execution_count": 5,
   "metadata": {},
   "outputs": [
    {
     "data": {
      "text/html": [
       "<div>\n",
       "<style scoped>\n",
       "    .dataframe tbody tr th:only-of-type {\n",
       "        vertical-align: middle;\n",
       "    }\n",
       "\n",
       "    .dataframe tbody tr th {\n",
       "        vertical-align: top;\n",
       "    }\n",
       "\n",
       "    .dataframe thead th {\n",
       "        text-align: right;\n",
       "    }\n",
       "</style>\n",
       "<table border=\"1\" class=\"dataframe\">\n",
       "  <thead>\n",
       "    <tr style=\"text-align: right;\">\n",
       "      <th></th>\n",
       "      <th>Coeficientes Sin Timon</th>\n",
       "      <th>A</th>\n",
       "    </tr>\n",
       "  </thead>\n",
       "  <tbody>\n",
       "    <tr>\n",
       "      <th>0</th>\n",
       "      <td>A0</td>\n",
       "      <td>-1.760042e-02</td>\n",
       "    </tr>\n",
       "    <tr>\n",
       "      <th>1</th>\n",
       "      <td>A1</td>\n",
       "      <td>9.798992e-02</td>\n",
       "    </tr>\n",
       "    <tr>\n",
       "      <th>2</th>\n",
       "      <td>A2</td>\n",
       "      <td>-5.092958e-02</td>\n",
       "    </tr>\n",
       "    <tr>\n",
       "      <th>3</th>\n",
       "      <td>A3</td>\n",
       "      <td>3.055775e-02</td>\n",
       "    </tr>\n",
       "    <tr>\n",
       "      <th>4</th>\n",
       "      <td>A4</td>\n",
       "      <td>-1.181566e-02</td>\n",
       "    </tr>\n",
       "    <tr>\n",
       "      <th>...</th>\n",
       "      <td>...</td>\n",
       "      <td>...</td>\n",
       "    </tr>\n",
       "    <tr>\n",
       "      <th>246</th>\n",
       "      <td>A246</td>\n",
       "      <td>-1.360910e-06</td>\n",
       "    </tr>\n",
       "    <tr>\n",
       "      <th>247</th>\n",
       "      <td>A247</td>\n",
       "      <td>3.748286e-06</td>\n",
       "    </tr>\n",
       "    <tr>\n",
       "      <th>248</th>\n",
       "      <td>A248</td>\n",
       "      <td>-3.122766e-06</td>\n",
       "    </tr>\n",
       "    <tr>\n",
       "      <th>249</th>\n",
       "      <td>A249</td>\n",
       "      <td>2.902786e-08</td>\n",
       "    </tr>\n",
       "    <tr>\n",
       "      <th>250</th>\n",
       "      <td>A250</td>\n",
       "      <td>3.038445e-06</td>\n",
       "    </tr>\n",
       "  </tbody>\n",
       "</table>\n",
       "<p>251 rows × 2 columns</p>\n",
       "</div>"
      ],
      "text/plain": [
       "    Coeficientes Sin Timon             A\n",
       "0                       A0 -1.760042e-02\n",
       "1                       A1  9.798992e-02\n",
       "2                       A2 -5.092958e-02\n",
       "3                       A3  3.055775e-02\n",
       "4                       A4 -1.181566e-02\n",
       "..                     ...           ...\n",
       "246                   A246 -1.360910e-06\n",
       "247                   A247  3.748286e-06\n",
       "248                   A248 -3.122766e-06\n",
       "249                   A249  2.902786e-08\n",
       "250                   A250  3.038445e-06\n",
       "\n",
       "[251 rows x 2 columns]"
      ]
     },
     "execution_count": 5,
     "metadata": {},
     "output_type": "execute_result"
    }
   ],
   "source": [
    "Coeficientes_n"
   ]
  },
  {
   "cell_type": "markdown",
   "metadata": {},
   "source": [
    "### 1.2 Para SOLAMENTE el timon"
   ]
  },
  {
   "cell_type": "code",
   "execution_count": 6,
   "metadata": {},
   "outputs": [
    {
     "data": {
      "text/html": [
       "<div>\n",
       "<style scoped>\n",
       "    .dataframe tbody tr th:only-of-type {\n",
       "        vertical-align: middle;\n",
       "    }\n",
       "\n",
       "    .dataframe tbody tr th {\n",
       "        vertical-align: top;\n",
       "    }\n",
       "\n",
       "    .dataframe thead th {\n",
       "        text-align: right;\n",
       "    }\n",
       "</style>\n",
       "<table border=\"1\" class=\"dataframe\">\n",
       "  <thead>\n",
       "    <tr style=\"text-align: right;\">\n",
       "      <th></th>\n",
       "      <th>Coeficientes Solo Timon</th>\n",
       "      <th>A</th>\n",
       "    </tr>\n",
       "  </thead>\n",
       "  <tbody>\n",
       "    <tr>\n",
       "      <th>0</th>\n",
       "      <td>A0</td>\n",
       "      <td>0.035259</td>\n",
       "    </tr>\n",
       "    <tr>\n",
       "      <th>1</th>\n",
       "      <td>A1</td>\n",
       "      <td>0.053132</td>\n",
       "    </tr>\n",
       "    <tr>\n",
       "      <th>2</th>\n",
       "      <td>A2</td>\n",
       "      <td>0.015939</td>\n",
       "    </tr>\n",
       "    <tr>\n",
       "      <th>3</th>\n",
       "      <td>A3</td>\n",
       "      <td>-0.011335</td>\n",
       "    </tr>\n",
       "    <tr>\n",
       "      <th>4</th>\n",
       "      <td>A4</td>\n",
       "      <td>-0.013070</td>\n",
       "    </tr>\n",
       "    <tr>\n",
       "      <th>...</th>\n",
       "      <td>...</td>\n",
       "      <td>...</td>\n",
       "    </tr>\n",
       "    <tr>\n",
       "      <th>246</th>\n",
       "      <td>A246</td>\n",
       "      <td>-0.000097</td>\n",
       "    </tr>\n",
       "    <tr>\n",
       "      <th>247</th>\n",
       "      <td>A247</td>\n",
       "      <td>-0.000223</td>\n",
       "    </tr>\n",
       "    <tr>\n",
       "      <th>248</th>\n",
       "      <td>A248</td>\n",
       "      <td>-0.000037</td>\n",
       "    </tr>\n",
       "    <tr>\n",
       "      <th>249</th>\n",
       "      <td>A249</td>\n",
       "      <td>0.000199</td>\n",
       "    </tr>\n",
       "    <tr>\n",
       "      <th>250</th>\n",
       "      <td>A250</td>\n",
       "      <td>0.000156</td>\n",
       "    </tr>\n",
       "  </tbody>\n",
       "</table>\n",
       "<p>251 rows × 2 columns</p>\n",
       "</div>"
      ],
      "text/plain": [
       "    Coeficientes Solo Timon         A\n",
       "0                        A0  0.035259\n",
       "1                        A1  0.053132\n",
       "2                        A2  0.015939\n",
       "3                        A3 -0.011335\n",
       "4                        A4 -0.013070\n",
       "..                      ...       ...\n",
       "246                    A246 -0.000097\n",
       "247                    A247 -0.000223\n",
       "248                    A248 -0.000037\n",
       "249                    A249  0.000199\n",
       "250                    A250  0.000156\n",
       "\n",
       "[251 rows x 2 columns]"
      ]
     },
     "execution_count": 6,
     "metadata": {},
     "output_type": "execute_result"
    }
   ],
   "source": [
    "CoeficientesT = pd.DataFrame()\n",
    "CoefAN_CT = np.array([])\n",
    "count = 0\n",
    "for count,i in enumerate(n):\n",
    "    if count == 0:\n",
    "        coef = coefA0_T()\n",
    "        CoefAN_CT = np.append(CoefAN_CT,coef)\n",
    "    else:\n",
    "        coef = coefAN_T(ca,delta_a,int(count))\n",
    "        CoefAN_CT = np.append(CoefAN_CT,coef)\n",
    "    coeficientesT = pd.DataFrame({\"Coeficientes Solo Timon\":\"A\"+str(count),\"A\":coef},index = [count])\n",
    "    CoeficientesT = CoeficientesT.append(coeficientesT)\n",
    "guardarcsv(CoeficientesT,\"coeficientes_solo_timon\")\n",
    "CoeficientesT\n",
    "# aqui la variables para su uso se recogen en CoefAN_timon (np.array)"
   ]
  },
  {
   "cell_type": "markdown",
   "metadata": {},
   "source": [
    "## 2. Calculo de los Cl y Cp de los distintos perfiles de vuelo\n",
    "### 2.1 Cl y Cp para el perfil sin timon"
   ]
  },
  {
   "cell_type": "markdown",
   "metadata": {},
   "source": [
    "![alt text](fotos/Cl.png \"Cl para el perfil\")\n"
   ]
  },
  {
   "cell_type": "code",
   "execution_count": 7,
   "metadata": {},
   "outputs": [
    {
     "data": {
      "image/png": "[encoded data removed]",
      "text/plain": [
       "<Figure size 432x288 with 1 Axes>"
      ]
     },
     "metadata": {
      "needs_background": "light"
     },
     "output_type": "display_data"
    }
   ],
   "source": [
    "from numpy import tan\n",
    "import matplotlib.pyplot as plt \n",
    "n1 = np.linspace(0,numero_coeficientes,numero_coeficientes)# ojito con este coeficiente, dado que las dimensiones se pueden ir a la mierda en caso de que se toque\n",
    "\n",
    "def sumAN(theta,CoefAN,n):\n",
    "    Sumatorio = np.array([])\n",
    "    \n",
    "    for count,i in enumerate(theta):\n",
    "        \n",
    "        sumatorio = 0\n",
    "        \n",
    "        for count2,j in enumerate(n):\n",
    "            if count2 == 0:\n",
    "                continue\n",
    "            else :\n",
    "                sumatorio += CoefAN[count2]*sin(int(count2)*i)\n",
    "        Sumatorio = np.append(Sumatorio,sumatorio)\n",
    "    return Sumatorio\n",
    "\n",
    "\"\"\"\n",
    "def sumAN(theta,CoefAN,n_cl):\n",
    "    # this function give us the sumatory in the right side of the formula\n",
    "    Sumatorio = np.array([])\n",
    "    for count,i in enumerate(theta):\n",
    "        sumatorio = 0\n",
    "        for count2,j in enumerate(n_cl):\n",
    "            sumatorio = sumatorio +CoefAN[count2]*sin(int(count2+1)*i)\n",
    "        Sumatorio = np.append(Sumatorio,sumatorio)\n",
    "    return Sumatorio\n",
    "\"\"\"\n",
    "\n",
    "theta = np.linspace(0,pi,100) # variable independiente\n",
    "x = 0.5+0.5*cos(theta) # e\n",
    "alpha_ST =np.array([-coefA0()])  # alpha, angulo de ataque\n",
    "\n",
    "\n",
    "\n",
    "plt.figure(1)\n",
    "for i in alpha_ST:\n",
    "    cl_ST = 4*((i+coefA0())*tan(theta/2)+sumAN(theta,CoefAN_ST,n1))\n",
    "    cp_ST = -cl_ST/2\n",
    "    plt.plot(x,cp_ST,label = \"Cp(alpha=\"+ str(round(np.degrees(i),2))+\")\")\n",
    "    plt.plot(x,cl_ST,label = \"Cl(alpha=\"+ str(round(np.degrees(i),2))+\")\")\n",
    "cL_ST = pd.DataFrame({\"Eje X\":x,\"Eje Theta\":theta,\"Cl(alpha=\"+ str(round(np.degrees(alpha_ST[0]),2))+\")\":cl_ST,\"Cp(alpha=\"+ str(round(np.degrees(alpha_ST[0]),2))+\")\":cp_ST})\n",
    "leyendagrafica()\n",
    "plt.ylim((-1,1))\n",
    "plt.grid(True)\n",
    "guardarcsv(cL_ST,\"datoscl_solo_perfil\")\n",
    "\n",
    "#CL_CP_ST.insert(loc=0, column='Eje X', value=x)\n",
    "#CL_CP_ST.insert(loc=1, column='Theta', value=theta)\n",
    "#plt.plot(x,cp_ST, label = \"Cp\")\n",
    "#CL_CP_ST.to_csv(\"datos_Cl_ST.csv\")\n"
   ]
  },
  {
   "cell_type": "code",
   "execution_count": 8,
   "metadata": {},
   "outputs": [
    {
     "data": {
      "text/html": [
       "<div>\n",
       "<style scoped>\n",
       "    .dataframe tbody tr th:only-of-type {\n",
       "        vertical-align: middle;\n",
       "    }\n",
       "\n",
       "    .dataframe tbody tr th {\n",
       "        vertical-align: top;\n",
       "    }\n",
       "\n",
       "    .dataframe thead th {\n",
       "        text-align: right;\n",
       "    }\n",
       "</style>\n",
       "<table border=\"1\" class=\"dataframe\">\n",
       "  <thead>\n",
       "    <tr style=\"text-align: right;\">\n",
       "      <th></th>\n",
       "      <th>Eje X</th>\n",
       "      <th>Eje Theta</th>\n",
       "      <th>Cl(alpha=1.01)</th>\n",
       "      <th>Cp(alpha=1.01)</th>\n",
       "    </tr>\n",
       "  </thead>\n",
       "  <tbody>\n",
       "    <tr>\n",
       "      <th>0</th>\n",
       "      <td>1.000000</td>\n",
       "      <td>0.000000</td>\n",
       "      <td>0.000000e+00</td>\n",
       "      <td>-0.000000e+00</td>\n",
       "    </tr>\n",
       "    <tr>\n",
       "      <th>1</th>\n",
       "      <td>0.999748</td>\n",
       "      <td>0.031733</td>\n",
       "      <td>6.373328e-03</td>\n",
       "      <td>-3.186664e-03</td>\n",
       "    </tr>\n",
       "    <tr>\n",
       "      <th>2</th>\n",
       "      <td>0.998993</td>\n",
       "      <td>0.063467</td>\n",
       "      <td>1.275199e-02</td>\n",
       "      <td>-6.375994e-03</td>\n",
       "    </tr>\n",
       "    <tr>\n",
       "      <th>3</th>\n",
       "      <td>0.997736</td>\n",
       "      <td>0.095200</td>\n",
       "      <td>1.912470e-02</td>\n",
       "      <td>-9.562350e-03</td>\n",
       "    </tr>\n",
       "    <tr>\n",
       "      <th>4</th>\n",
       "      <td>0.995977</td>\n",
       "      <td>0.126933</td>\n",
       "      <td>2.548173e-02</td>\n",
       "      <td>-1.274087e-02</td>\n",
       "    </tr>\n",
       "    <tr>\n",
       "      <th>...</th>\n",
       "      <td>...</td>\n",
       "      <td>...</td>\n",
       "      <td>...</td>\n",
       "      <td>...</td>\n",
       "    </tr>\n",
       "    <tr>\n",
       "      <th>95</th>\n",
       "      <td>0.004023</td>\n",
       "      <td>3.014660</td>\n",
       "      <td>1.456786e-01</td>\n",
       "      <td>-7.283929e-02</td>\n",
       "    </tr>\n",
       "    <tr>\n",
       "      <th>96</th>\n",
       "      <td>0.002264</td>\n",
       "      <td>3.046393</td>\n",
       "      <td>1.095850e-01</td>\n",
       "      <td>-5.479250e-02</td>\n",
       "    </tr>\n",
       "    <tr>\n",
       "      <th>97</th>\n",
       "      <td>0.001007</td>\n",
       "      <td>3.078126</td>\n",
       "      <td>7.322898e-02</td>\n",
       "      <td>-3.661449e-02</td>\n",
       "    </tr>\n",
       "    <tr>\n",
       "      <th>98</th>\n",
       "      <td>0.000252</td>\n",
       "      <td>3.109859</td>\n",
       "      <td>3.667971e-02</td>\n",
       "      <td>-1.833986e-02</td>\n",
       "    </tr>\n",
       "    <tr>\n",
       "      <th>99</th>\n",
       "      <td>0.000000</td>\n",
       "      <td>3.141593</td>\n",
       "      <td>1.824007e-16</td>\n",
       "      <td>-9.120035e-17</td>\n",
       "    </tr>\n",
       "  </tbody>\n",
       "</table>\n",
       "<p>100 rows × 4 columns</p>\n",
       "</div>"
      ],
      "text/plain": [
       "       Eje X  Eje Theta  Cl(alpha=1.01)  Cp(alpha=1.01)\n",
       "0   1.000000   0.000000    0.000000e+00   -0.000000e+00\n",
       "1   0.999748   0.031733    6.373328e-03   -3.186664e-03\n",
       "2   0.998993   0.063467    1.275199e-02   -6.375994e-03\n",
       "3   0.997736   0.095200    1.912470e-02   -9.562350e-03\n",
       "4   0.995977   0.126933    2.548173e-02   -1.274087e-02\n",
       "..       ...        ...             ...             ...\n",
       "95  0.004023   3.014660    1.456786e-01   -7.283929e-02\n",
       "96  0.002264   3.046393    1.095850e-01   -5.479250e-02\n",
       "97  0.001007   3.078126    7.322898e-02   -3.661449e-02\n",
       "98  0.000252   3.109859    3.667971e-02   -1.833986e-02\n",
       "99  0.000000   3.141593    1.824007e-16   -9.120035e-17\n",
       "\n",
       "[100 rows x 4 columns]"
      ]
     },
     "execution_count": 8,
     "metadata": {},
     "output_type": "execute_result"
    }
   ],
   "source": [
    "cL_ST "
   ]
  },
  {
   "cell_type": "markdown",
   "metadata": {},
   "source": [
    "### 2.1 Cl y Cp para SOLAMENTE el timon"
   ]
  },
  {
   "cell_type": "code",
   "execution_count": 9,
   "metadata": {},
   "outputs": [
    {
     "data": {
      "image/png": "[encoded data removed]",
      "text/plain": [
       "<Figure size 432x288 with 1 Axes>"
      ]
     },
     "metadata": {
      "needs_background": "light"
     },
     "output_type": "display_data"
    }
   ],
   "source": [
    "alpha_T = np.array([-coefA0()])\n",
    "plt.figure(1)\n",
    "CL_CP_T = pd.DataFrame()\n",
    "for count,i in enumerate(alpha_T):\n",
    "    cl_T = 4*((i+CoefAN_CT[0])*tan(theta/2)+sumAN(theta, CoefAN_CT ,n1))\n",
    "    cp_T = -cl_T /2\n",
    "    plt.plot(x,cl_T,label =\"Cl(alpha=\"+ str(round(np.degrees(i),2)) +\")\")\n",
    "    #plt.plot(x,cp_T,label = \"Cp(alpha=\"+ str(round(np.degrees(i),2)) +\")\" ) # representa el Cp\n",
    "leyendagrafica()\n",
    "cL_CT = pd.DataFrame({\"Eje X\":x,\"Eje Theta\":theta,\"CL (alpha=0)\":cl_T,\"Cp (alpha = 0)\":cp_T})\n",
    "leyendagrafica()\n",
    "plt.ylim((-1,1))\n",
    "plt.grid(True)\n",
    "guardarcsv(cL_CT,\"datoscl_solo_timon\")"
   ]
  },
  {
   "cell_type": "code",
   "execution_count": 10,
   "metadata": {},
   "outputs": [
    {
     "data": {
      "text/html": [
       "<div>\n",
       "<style scoped>\n",
       "    .dataframe tbody tr th:only-of-type {\n",
       "        vertical-align: middle;\n",
       "    }\n",
       "\n",
       "    .dataframe tbody tr th {\n",
       "        vertical-align: top;\n",
       "    }\n",
       "\n",
       "    .dataframe thead th {\n",
       "        text-align: right;\n",
       "    }\n",
       "</style>\n",
       "<table border=\"1\" class=\"dataframe\">\n",
       "  <thead>\n",
       "    <tr style=\"text-align: right;\">\n",
       "      <th></th>\n",
       "      <th>Eje X</th>\n",
       "      <th>Eje Theta</th>\n",
       "      <th>CL (alpha=0)</th>\n",
       "      <th>Cp (alpha = 0)</th>\n",
       "    </tr>\n",
       "  </thead>\n",
       "  <tbody>\n",
       "    <tr>\n",
       "      <th>0</th>\n",
       "      <td>1.000000</td>\n",
       "      <td>0.000000</td>\n",
       "      <td>0.000000e+00</td>\n",
       "      <td>-0.000000e+00</td>\n",
       "    </tr>\n",
       "    <tr>\n",
       "      <th>1</th>\n",
       "      <td>0.999748</td>\n",
       "      <td>0.031733</td>\n",
       "      <td>8.292586e-03</td>\n",
       "      <td>-4.146293e-03</td>\n",
       "    </tr>\n",
       "    <tr>\n",
       "      <th>2</th>\n",
       "      <td>0.998993</td>\n",
       "      <td>0.063467</td>\n",
       "      <td>1.630830e-02</td>\n",
       "      <td>-8.154150e-03</td>\n",
       "    </tr>\n",
       "    <tr>\n",
       "      <th>3</th>\n",
       "      <td>0.997736</td>\n",
       "      <td>0.095200</td>\n",
       "      <td>2.444557e-02</td>\n",
       "      <td>-1.222278e-02</td>\n",
       "    </tr>\n",
       "    <tr>\n",
       "      <th>4</th>\n",
       "      <td>0.995977</td>\n",
       "      <td>0.126933</td>\n",
       "      <td>3.287424e-02</td>\n",
       "      <td>-1.643712e-02</td>\n",
       "    </tr>\n",
       "    <tr>\n",
       "      <th>...</th>\n",
       "      <td>...</td>\n",
       "      <td>...</td>\n",
       "      <td>...</td>\n",
       "      <td>...</td>\n",
       "    </tr>\n",
       "    <tr>\n",
       "      <th>95</th>\n",
       "      <td>0.004023</td>\n",
       "      <td>3.014660</td>\n",
       "      <td>3.337555e+00</td>\n",
       "      <td>-1.668777e+00</td>\n",
       "    </tr>\n",
       "    <tr>\n",
       "      <th>96</th>\n",
       "      <td>0.002264</td>\n",
       "      <td>3.046393</td>\n",
       "      <td>4.445885e+00</td>\n",
       "      <td>-2.222943e+00</td>\n",
       "    </tr>\n",
       "    <tr>\n",
       "      <th>97</th>\n",
       "      <td>0.001007</td>\n",
       "      <td>3.078126</td>\n",
       "      <td>6.665863e+00</td>\n",
       "      <td>-3.332931e+00</td>\n",
       "    </tr>\n",
       "    <tr>\n",
       "      <th>98</th>\n",
       "      <td>0.000252</td>\n",
       "      <td>3.109859</td>\n",
       "      <td>1.332798e+01</td>\n",
       "      <td>-6.663991e+00</td>\n",
       "    </tr>\n",
       "    <tr>\n",
       "      <th>99</th>\n",
       "      <td>0.000000</td>\n",
       "      <td>3.141593</td>\n",
       "      <td>3.453046e+15</td>\n",
       "      <td>-1.726523e+15</td>\n",
       "    </tr>\n",
       "  </tbody>\n",
       "</table>\n",
       "<p>100 rows × 4 columns</p>\n",
       "</div>"
      ],
      "text/plain": [
       "       Eje X  Eje Theta  CL (alpha=0)  Cp (alpha = 0)\n",
       "0   1.000000   0.000000  0.000000e+00   -0.000000e+00\n",
       "1   0.999748   0.031733  8.292586e-03   -4.146293e-03\n",
       "2   0.998993   0.063467  1.630830e-02   -8.154150e-03\n",
       "3   0.997736   0.095200  2.444557e-02   -1.222278e-02\n",
       "4   0.995977   0.126933  3.287424e-02   -1.643712e-02\n",
       "..       ...        ...           ...             ...\n",
       "95  0.004023   3.014660  3.337555e+00   -1.668777e+00\n",
       "96  0.002264   3.046393  4.445885e+00   -2.222943e+00\n",
       "97  0.001007   3.078126  6.665863e+00   -3.332931e+00\n",
       "98  0.000252   3.109859  1.332798e+01   -6.663991e+00\n",
       "99  0.000000   3.141593  3.453046e+15   -1.726523e+15\n",
       "\n",
       "[100 rows x 4 columns]"
      ]
     },
     "execution_count": 10,
     "metadata": {},
     "output_type": "execute_result"
    }
   ],
   "source": [
    "cL_CT"
   ]
  },
  {
   "cell_type": "code",
   "execution_count": 11,
   "metadata": {},
   "outputs": [
    {
     "data": {
      "text/plain": [
       "(0, 2)"
      ]
     },
     "execution_count": 11,
     "metadata": {},
     "output_type": "execute_result"
    },
    {
     "data": {
      "image/png": "[encoded data removed]",
      "text/plain": [
       "<Figure size 432x288 with 1 Axes>"
      ]
     },
     "metadata": {
      "needs_background": "light"
     },
     "output_type": "display_data"
    }
   ],
   "source": [
    "cl_total = cl_T + cl_ST\n",
    "plt.plot(x,cl_total)\n",
    "plt.ylim(0,2)\n",
    "# representa el coeficiente de presiones"
   ]
  },
  {
   "cell_type": "markdown",
   "metadata": {},
   "source": [
    "## 3. Coeficiente de Charnela\n",
    "### 3.1 Coeficieente de Charnela para el perfil sin timón\n",
    "![alt text](fotos/charST.png \"Cl para el perfil\")"
   ]
  },
  {
   "cell_type": "code",
   "execution_count": 12,
   "metadata": {},
   "outputs": [],
   "source": [
    "\n",
    "def coefcharnela(theta, theta_a, alpha, A):\n",
    "    # todos los ángulos tiene que ser puesto en radianes\n",
    "    sum = 0\n",
    "    # get sum\n",
    "    for index, value in enumerate(A):\n",
    "        if index == 0:\n",
    "            sum += (alpha + A[index]) * tan(0.5 * theta)\n",
    "        else:\n",
    "            sum += A[index] * sin(index * theta)\n",
    "    # note that multiplication with 4 and multiplication with 1/4\n",
    "    # result in one as prefactor\n",
    "    return -sum * (cos(theta) - cos(theta_a))*sin(theta)\n",
    "\n"
   ]
  },
  {
   "cell_type": "code",
   "execution_count": 13,
   "metadata": {},
   "outputs": [],
   "source": [
    "theta_a = arccos(2*(xa-0.5)) # limite para la integral\n",
    "alpha_char = np.array([-2,0,6]) # angulos de ataque\n",
    "\n",
    "C_CHAR_CT = np.array([])\n",
    "C_CHAR_ST = np.array([])\n",
    "\n",
    "for count,i in enumerate(alpha_char):\n",
    "    \n",
    "    c_CHAR_CT = integrate.quad(coefcharnela, 0, theta_a, args=(theta_a , np.radians(i), CoefAN_ST + CoefAN_CT))[0]\n",
    "    c_CHAR_ST = integrate.quad(coefcharnela, 0, theta_a, args=(theta_a , np.radians(i), CoefAN_ST))[0]\n",
    "    C_CHAR_CT = np.append(C_CHAR_CT ,c_CHAR_CT )\n",
    "    C_CHAR_ST = np.append(C_CHAR_ST ,c_CHAR_ST )\n",
    "\n",
    "coef_charnela = pd.DataFrame({\"alpha\":alpha_char,\"M_CH_ST\":C_CHAR_ST,\"M_CH_CT\":C_CHAR_CT})    \n",
    "guardarcsv(coef_charnela,\"coeficientes_charnela\")"
   ]
  },
  {
   "cell_type": "code",
   "execution_count": 14,
   "metadata": {},
   "outputs": [
    {
     "data": {
      "text/html": [
       "<div>\n",
       "<style scoped>\n",
       "    .dataframe tbody tr th:only-of-type {\n",
       "        vertical-align: middle;\n",
       "    }\n",
       "\n",
       "    .dataframe tbody tr th {\n",
       "        vertical-align: top;\n",
       "    }\n",
       "\n",
       "    .dataframe thead th {\n",
       "        text-align: right;\n",
       "    }\n",
       "</style>\n",
       "<table border=\"1\" class=\"dataframe\">\n",
       "  <thead>\n",
       "    <tr style=\"text-align: right;\">\n",
       "      <th></th>\n",
       "      <th>alpha</th>\n",
       "      <th>M_CH_ST</th>\n",
       "      <th>M_CH_CT</th>\n",
       "    </tr>\n",
       "  </thead>\n",
       "  <tbody>\n",
       "    <tr>\n",
       "      <th>0</th>\n",
       "      <td>-2</td>\n",
       "      <td>-0.003258</td>\n",
       "      <td>-0.013851</td>\n",
       "    </tr>\n",
       "    <tr>\n",
       "      <th>1</th>\n",
       "      <td>0</td>\n",
       "      <td>-0.006195</td>\n",
       "      <td>-0.016788</td>\n",
       "    </tr>\n",
       "    <tr>\n",
       "      <th>2</th>\n",
       "      <td>6</td>\n",
       "      <td>-0.015007</td>\n",
       "      <td>-0.025600</td>\n",
       "    </tr>\n",
       "  </tbody>\n",
       "</table>\n",
       "</div>"
      ],
      "text/plain": [
       "   alpha   M_CH_ST   M_CH_CT\n",
       "0     -2 -0.003258 -0.013851\n",
       "1      0 -0.006195 -0.016788\n",
       "2      6 -0.015007 -0.025600"
      ]
     },
     "execution_count": 14,
     "metadata": {},
     "output_type": "execute_result"
    }
   ],
   "source": [
    "coef_charnela"
   ]
  },
  {
   "cell_type": "markdown",
   "metadata": {},
   "source": [
    "## 4.B0: cálculo de los coeficientes de Glauert aplicados al espesor\n",
    "![alt text](fotos/apdo4.png \"Cl para el perfil\")"
   ]
  },
  {
   "cell_type": "markdown",
   "metadata": {},
   "source": [
    "![](fotos/b0.png  \"Cl para el perfil\")\n"
   ]
  },
  {
   "cell_type": "code",
   "execution_count": 15,
   "metadata": {},
   "outputs": [
    {
     "data": {
      "text/plain": [
       "[<matplotlib.lines.Line2D at 0x1517dd5390>]"
      ]
     },
     "execution_count": 15,
     "metadata": {},
     "output_type": "execute_result"
    },
    {
     "data": {
      "image/png": "[encoded data removed]",
      "text/plain": [
       "<Figure size 432x288 with 1 Axes>"
      ]
     },
     "metadata": {
      "needs_background": "light"
     },
     "output_type": "display_data"
    }
   ],
   "source": [
    "def f_espesor(x,t):\n",
    "    a = 0.2969\n",
    "    b = -0.126\n",
    "    c = -0.3516\n",
    "    d = 0.2843\n",
    "    e = -0.1015\n",
    "    f = 5*t*(a*x**0.5+b*x+c*x**2+d*x**3+e*x**4)\n",
    "    return f\n",
    "e = np.linspace(0,1,100)\n",
    "f = f_espesor(e,t)\n",
    "plt.plot(e,f)\n",
    "plt.plot(e,-f)"
   ]
  },
  {
   "cell_type": "markdown",
   "metadata": {},
   "source": [
    "## 4.1 Cáculo de B0"
   ]
  },
  {
   "cell_type": "code",
   "execution_count": 16,
   "metadata": {},
   "outputs": [],
   "source": [
    "# definimos B0\n",
    "numero_coefb0 = 200\n",
    "nb0 = np.linspace(0,numero_coefb0,numero_coefb0+1) # este valor marca el número de B_n que va a haber\n",
    "\n",
    "\n",
    "def coefb0_0(theta, n, t):\n",
    "    # calcula el primer cacho del coeficiente B0(integral del numerador)\n",
    "    a = 0.2969\n",
    "    b = -0.126\n",
    "    c = -0.3516\n",
    "    d = 0.2843\n",
    "    e = -0.1015\n",
    "    cv = 0.5+0.5*cos(theta)\n",
    "    sum = 0\n",
    "    # get sum\n",
    "    for index, value in enumerate(n):\n",
    "        if index == 0:\n",
    "            continue\n",
    "        else:\n",
    "            sum += (5*t*( a/(2*(cv**0.5)) + b + 2*c*cv + 3*d*cv**2 + 4*e*cv**3)) * sin(index * theta) * cos(index*pi)\n",
    "    return sum\n",
    "\n",
    "def coefb0_1(theta,n):\n",
    "    # calcula el segundo cacho del coeficiente B0(integral del denominador)\n",
    "    sum2 = 0\n",
    "    for index, value in enumerate(n):\n",
    "        if index == 0:\n",
    "            continue\n",
    "        else:\n",
    "            sum2 += tan(theta*0.5)*sin(index*theta)*cos(index*pi)\n",
    "    return sum2\n",
    "    "
   ]
  },
  {
   "cell_type": "code",
   "execution_count": 17,
   "metadata": {},
   "outputs": [],
   "source": [
    "Coefb0= (0.5 + (2/pi)*(integrate.quad(coefb0_0, 0, pi, args=(nb0,t))[0]) ) / ( (2/pi) * (integrate.quad(coefb0_1, 0, pi, args=(nb0))[0]) - 1 )"
   ]
  },
  {
   "cell_type": "markdown",
   "metadata": {},
   "source": [
    "![alt text](fotos/b0.png \"Cl para el perfil\")"
   ]
  },
  {
   "cell_type": "markdown",
   "metadata": {},
   "source": [
    "## 4.2 Cálculo de Bn"
   ]
  },
  {
   "cell_type": "code",
   "execution_count": 18,
   "metadata": {},
   "outputs": [],
   "source": [
    "def coefBN(theta,n,b0):\n",
    "    # calcula el coeficiente BN\n",
    "    a = 0.2969\n",
    "    b = -0.126\n",
    "    c = -0.3516\n",
    "    d = 0.2843\n",
    "    e = -0.1015\n",
    "    t = 0.12\n",
    "    cv = 0.5+0.5*cos(theta)\n",
    "    d_esp = (5*t*( a/(2*(cv**0.5)) + b + 2*c*cv + 3*d*cv**2 + 4*e*cv**3))\n",
    "    return (d_esp - b0*tan(theta*0.5))*sin(theta*n)\n",
    "\n",
    "CoefBN = np.array([])\n",
    "\n",
    "for index, value in enumerate(nb0):\n",
    "    if index == 0:\n",
    "        continue\n",
    "    else:\n",
    "        coef1 = 2/pi * integrate.quad(coefBN , 0 , pi, args = (int(index),Coefb0))[0]\n",
    "        CoefBN = np.append(CoefBN,coef1)\n",
    "CoefBN = np.append(Coefb0,CoefBN)\n"
   ]
  },
  {
   "cell_type": "code",
   "execution_count": 114,
   "metadata": {},
   "outputs": [],
   "source": [
    "COEFCIENTES_BN = pd.DataFrame({\"B\":nb0,\"Valores\":CoefBN})\n",
    "guardarcsv(COEFCIENTES_BN,\"coeficientes_bn\")"
   ]
  },
  {
   "cell_type": "code",
   "execution_count": 111,
   "metadata": {},
   "outputs": [
    {
     "data": {
      "text/html": [
       "<div>\n",
       "<style scoped>\n",
       "    .dataframe tbody tr th:only-of-type {\n",
       "        vertical-align: middle;\n",
       "    }\n",
       "\n",
       "    .dataframe tbody tr th {\n",
       "        vertical-align: top;\n",
       "    }\n",
       "\n",
       "    .dataframe thead th {\n",
       "        text-align: right;\n",
       "    }\n",
       "</style>\n",
       "<table border=\"1\" class=\"dataframe\">\n",
       "  <thead>\n",
       "    <tr style=\"text-align: right;\">\n",
       "      <th></th>\n",
       "      <th>B</th>\n",
       "      <th>Valores</th>\n",
       "    </tr>\n",
       "  </thead>\n",
       "  <tbody>\n",
       "    <tr>\n",
       "      <th>0</th>\n",
       "      <td>0.0</td>\n",
       "      <td>0.116012</td>\n",
       "    </tr>\n",
       "    <tr>\n",
       "      <th>1</th>\n",
       "      <td>1.0</td>\n",
       "      <td>-0.230420</td>\n",
       "    </tr>\n",
       "    <tr>\n",
       "      <th>2</th>\n",
       "      <td>2.0</td>\n",
       "      <td>0.025887</td>\n",
       "    </tr>\n",
       "    <tr>\n",
       "      <th>3</th>\n",
       "      <td>3.0</td>\n",
       "      <td>-0.093959</td>\n",
       "    </tr>\n",
       "    <tr>\n",
       "      <th>4</th>\n",
       "      <td>4.0</td>\n",
       "      <td>0.038793</td>\n",
       "    </tr>\n",
       "    <tr>\n",
       "      <th>...</th>\n",
       "      <td>...</td>\n",
       "      <td>...</td>\n",
       "    </tr>\n",
       "    <tr>\n",
       "      <th>196</th>\n",
       "      <td>196.0</td>\n",
       "      <td>0.053674</td>\n",
       "    </tr>\n",
       "    <tr>\n",
       "      <th>197</th>\n",
       "      <td>197.0</td>\n",
       "      <td>-0.054582</td>\n",
       "    </tr>\n",
       "    <tr>\n",
       "      <th>198</th>\n",
       "      <td>198.0</td>\n",
       "      <td>0.053676</td>\n",
       "    </tr>\n",
       "    <tr>\n",
       "      <th>199</th>\n",
       "      <td>199.0</td>\n",
       "      <td>-0.054575</td>\n",
       "    </tr>\n",
       "    <tr>\n",
       "      <th>200</th>\n",
       "      <td>200.0</td>\n",
       "      <td>0.053678</td>\n",
       "    </tr>\n",
       "  </tbody>\n",
       "</table>\n",
       "<p>201 rows × 2 columns</p>\n",
       "</div>"
      ],
      "text/plain": [
       "         B   Valores\n",
       "0      0.0  0.116012\n",
       "1      1.0 -0.230420\n",
       "2      2.0  0.025887\n",
       "3      3.0 -0.093959\n",
       "4      4.0  0.038793\n",
       "..     ...       ...\n",
       "196  196.0  0.053674\n",
       "197  197.0 -0.054582\n",
       "198  198.0  0.053676\n",
       "199  199.0 -0.054575\n",
       "200  200.0  0.053678\n",
       "\n",
       "[201 rows x 2 columns]"
      ]
     },
     "execution_count": 111,
     "metadata": {},
     "output_type": "execute_result"
    }
   ],
   "source": [
    "COEFCIENTES_BN"
   ]
  },
  {
   "cell_type": "markdown",
   "metadata": {},
   "source": [
    "## 4.3 Coeficente de presiones para el espesor"
   ]
  },
  {
   "cell_type": "markdown",
   "metadata": {},
   "source": [
    "![alt text](fotos/cp.png \"Cl para el perfil\")"
   ]
  },
  {
   "cell_type": "code",
   "execution_count": 86,
   "metadata": {},
   "outputs": [],
   "source": [
    "\n",
    "theta_bn = np.linspace(0,pi-0.001,100)\n",
    "xbn = 0.5+cos(theta_bn)*0.5\n",
    "\n",
    "def sumatorioBN(n,BN,x):\n",
    "    # segundo miembro del cp para el espesor\n",
    "    #theta = arccos(2*(x-0.5))\n",
    "    Sumatorio = np.array([])\n",
    "    for count,i in enumerate(x):\n",
    "        sumatorio = 0\n",
    "        for count2,j in enumerate(n):\n",
    "            if count2 == 0:\n",
    "                continue\n",
    "            else :\n",
    "                sumatorio -= BN[count2]*cos(int(count2)*i)\n",
    "        Sumatorio = np.append(Sumatorio,sumatorio)\n",
    "    return Sumatorio\n",
    "\n",
    "cp_bn = -2*(CoefBN [0]-sumatorioBN(nb0,CoefBN,theta_bn))"
   ]
  },
  {
   "cell_type": "code",
   "execution_count": 87,
   "metadata": {},
   "outputs": [
    {
     "data": {
      "image/png": "[encoded data removed]",
      "text/plain": [
       "<Figure size 432x288 with 1 Axes>"
      ]
     },
     "metadata": {
      "needs_background": "light"
     },
     "output_type": "display_data"
    }
   ],
   "source": [
    "plt.plot(xbn ,cp_bn,label = \"Cp\")\n",
    "plt.ylim((1.5,-1))\n",
    "plt.grid(True)\n",
    "leyendagrafica()"
   ]
  },
  {
   "cell_type": "markdown",
   "metadata": {},
   "source": [
    "## 4.4 Cálculo del Cp_Extrado y el Cp_intrados"
   ]
  },
  {
   "cell_type": "code",
   "execution_count": 95,
   "metadata": {},
   "outputs": [],
   "source": [
    "cpe = cp_ST + cp_bn\n",
    "cpi = -cp_ST + cp_bn"
   ]
  },
  {
   "cell_type": "code",
   "execution_count": 89,
   "metadata": {},
   "outputs": [],
   "source": [
    "CP_ESPESOR = pd.DataFrame({\"Eje X\":xbn,\"Eje Theta\":theta_bn,\"CP\":cp_bn,\"Cp_extrados\":cpe,\"Cp_intrados\":cpi})\n",
    "guardarcsv(CP_ESPESOR,\"cp_espesor\")"
   ]
  },
  {
   "cell_type": "code",
   "execution_count": 77,
   "metadata": {},
   "outputs": [
    {
     "data": {
      "text/html": [
       "<div>\n",
       "<style scoped>\n",
       "    .dataframe tbody tr th:only-of-type {\n",
       "        vertical-align: middle;\n",
       "    }\n",
       "\n",
       "    .dataframe tbody tr th {\n",
       "        vertical-align: top;\n",
       "    }\n",
       "\n",
       "    .dataframe thead th {\n",
       "        text-align: right;\n",
       "    }\n",
       "</style>\n",
       "<table border=\"1\" class=\"dataframe\">\n",
       "  <thead>\n",
       "    <tr style=\"text-align: right;\">\n",
       "      <th></th>\n",
       "      <th>Eje X</th>\n",
       "      <th>Eje Theta</th>\n",
       "      <th>CP</th>\n",
       "      <th>Cp_extrados</th>\n",
       "      <th>Cp_intrados</th>\n",
       "    </tr>\n",
       "  </thead>\n",
       "  <tbody>\n",
       "    <tr>\n",
       "      <th>0</th>\n",
       "      <td>1.000000e+00</td>\n",
       "      <td>0.000000</td>\n",
       "      <td>0.976955</td>\n",
       "      <td>0.976955</td>\n",
       "      <td>0.976955</td>\n",
       "    </tr>\n",
       "    <tr>\n",
       "      <th>1</th>\n",
       "      <td>9.997484e-01</td>\n",
       "      <td>0.031723</td>\n",
       "      <td>0.541379</td>\n",
       "      <td>0.538192</td>\n",
       "      <td>0.544566</td>\n",
       "    </tr>\n",
       "    <tr>\n",
       "      <th>2</th>\n",
       "      <td>9.989940e-01</td>\n",
       "      <td>0.063446</td>\n",
       "      <td>0.420359</td>\n",
       "      <td>0.413983</td>\n",
       "      <td>0.426735</td>\n",
       "    </tr>\n",
       "    <tr>\n",
       "      <th>3</th>\n",
       "      <td>9.977374e-01</td>\n",
       "      <td>0.095169</td>\n",
       "      <td>0.348445</td>\n",
       "      <td>0.338883</td>\n",
       "      <td>0.358008</td>\n",
       "    </tr>\n",
       "    <tr>\n",
       "      <th>4</th>\n",
       "      <td>9.959800e-01</td>\n",
       "      <td>0.126893</td>\n",
       "      <td>0.297287</td>\n",
       "      <td>0.284546</td>\n",
       "      <td>0.310028</td>\n",
       "    </tr>\n",
       "    <tr>\n",
       "      <th>...</th>\n",
       "      <td>...</td>\n",
       "      <td>...</td>\n",
       "      <td>...</td>\n",
       "      <td>...</td>\n",
       "      <td>...</td>\n",
       "    </tr>\n",
       "    <tr>\n",
       "      <th>95</th>\n",
       "      <td>4.083561e-03</td>\n",
       "      <td>3.013700</td>\n",
       "      <td>-0.953257</td>\n",
       "      <td>-1.026096</td>\n",
       "      <td>-0.880417</td>\n",
       "    </tr>\n",
       "    <tr>\n",
       "      <th>96</th>\n",
       "      <td>2.310360e-03</td>\n",
       "      <td>3.045423</td>\n",
       "      <td>-1.037369</td>\n",
       "      <td>-1.092162</td>\n",
       "      <td>-0.982577</td>\n",
       "    </tr>\n",
       "    <tr>\n",
       "      <th>97</th>\n",
       "      <td>1.037973e-03</td>\n",
       "      <td>3.077146</td>\n",
       "      <td>-1.186271</td>\n",
       "      <td>-1.222886</td>\n",
       "      <td>-1.149657</td>\n",
       "    </tr>\n",
       "    <tr>\n",
       "      <th>98</th>\n",
       "      <td>2.676774e-04</td>\n",
       "      <td>3.108869</td>\n",
       "      <td>-1.571968</td>\n",
       "      <td>-1.590308</td>\n",
       "      <td>-1.553628</td>\n",
       "    </tr>\n",
       "    <tr>\n",
       "      <th>99</th>\n",
       "      <td>2.500000e-07</td>\n",
       "      <td>3.140593</td>\n",
       "      <td>-22.364980</td>\n",
       "      <td>-22.364980</td>\n",
       "      <td>-22.364980</td>\n",
       "    </tr>\n",
       "  </tbody>\n",
       "</table>\n",
       "<p>100 rows × 5 columns</p>\n",
       "</div>"
      ],
      "text/plain": [
       "           Eje X  Eje Theta         CP  Cp_extrados  Cp_intrados\n",
       "0   1.000000e+00   0.000000   0.976955     0.976955     0.976955\n",
       "1   9.997484e-01   0.031723   0.541379     0.538192     0.544566\n",
       "2   9.989940e-01   0.063446   0.420359     0.413983     0.426735\n",
       "3   9.977374e-01   0.095169   0.348445     0.338883     0.358008\n",
       "4   9.959800e-01   0.126893   0.297287     0.284546     0.310028\n",
       "..           ...        ...        ...          ...          ...\n",
       "95  4.083561e-03   3.013700  -0.953257    -1.026096    -0.880417\n",
       "96  2.310360e-03   3.045423  -1.037369    -1.092162    -0.982577\n",
       "97  1.037973e-03   3.077146  -1.186271    -1.222886    -1.149657\n",
       "98  2.676774e-04   3.108869  -1.571968    -1.590308    -1.553628\n",
       "99  2.500000e-07   3.140593 -22.364980   -22.364980   -22.364980\n",
       "\n",
       "[100 rows x 5 columns]"
      ]
     },
     "execution_count": 77,
     "metadata": {},
     "output_type": "execute_result"
    }
   ],
   "source": [
    "CP_ESPESOR"
   ]
  },
  {
   "cell_type": "code",
   "execution_count": 96,
   "metadata": {},
   "outputs": [
    {
     "data": {
      "image/png": "[encoded data removed]",
      "text/plain": [
       "<Figure size 432x288 with 1 Axes>"
      ]
     },
     "metadata": {
      "needs_background": "light"
     },
     "output_type": "display_data"
    }
   ],
   "source": [
    "plt.plot(xbn,cpe, label = \"Cp extrados\")\n",
    "plt.plot(xbn,cpi,label = \"Cp intrados\")\n",
    "plt.ylim((1.5,-1.5))\n",
    "plt.grid(True)\n",
    "leyendagrafica()"
   ]
  }
 ],
 "metadata": {
  "kernelspec": {
   "display_name": "Python 3",
   "language": "python",
   "name": "python3"
  },
  "language_info": {
   "codemirror_mode": {
    "name": "ipython",
    "version": 3
   },
   "file_extension": ".py",
   "mimetype": "text/x-python",
   "name": "python",
   "nbconvert_exporter": "python",
   "pygments_lexer": "ipython3",
   "version": "3.7.6"
  }
 },
 "nbformat": 4,
 "nbformat_minor": 4
}
